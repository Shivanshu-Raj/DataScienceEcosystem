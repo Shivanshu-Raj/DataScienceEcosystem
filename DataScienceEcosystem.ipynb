{
 "cells": [
  {
   "cell_type": "markdown",
   "id": "152978c4",
   "metadata": {},
   "source": [
    "# Data Science Tools and Ecosystem"
   ]
  },
  {
   "cell_type": "markdown",
   "id": "6feefca8",
   "metadata": {},
   "source": [
    "## In this notebook, Data Science Tools and Ecosystem are summarized."
   ]
  },
  {
   "cell_type": "markdown",
   "id": "9066d37f",
   "metadata": {},
   "source": [
    "# Objectives:\n",
    "- List popular languages for Data Science\n",
    "- List commonly used libraries for Data Science\n",
    "- Create a table mentioning Data Science Tools\n",
    "- Create a markdown cell introducing arithmetic expression\n",
    "- Create a code cell to multiply and add numbers"
   ]
  },
  {
   "cell_type": "markdown",
   "id": "2c4a667f",
   "metadata": {},
   "source": [
    "### Some of the popular languages that Data Scientists use are:\n",
    "###### 1. Python\n",
    "###### 2. Julia\n",
    "###### 3. SQL\n",
    "###### 4. R\n",
    "###### 5. JavaScript\n",
    "###### 6. Java\n",
    "###### 7. Scala"
   ]
  },
  {
   "cell_type": "markdown",
   "id": "3f67a7a5",
   "metadata": {},
   "source": [
    "### Some of the commonly used libraries used by Data Scientists include:\n",
    "###### 1. NumPy\n",
    "###### 2. Keras\n",
    "###### 3. Pandas\n",
    "###### 4. PyTorch\n",
    "###### 5. SciPy\n",
    "###### 6. Scikit-Learn\n",
    "###### 7. TensorFlow\n",
    "###### 8. Matplotlib\n",
    "###### 9. Seaborn"
   ]
  },
  {
   "cell_type": "markdown",
   "id": "80794714",
   "metadata": {},
   "source": [
    "| Data Science Tools |\n",
    "|:------------------:|\n",
    "|VS Code             |\n",
    "|RStudio             |\n",
    "|Jupyter Notebook    |\n"
   ]
  },
  {
   "cell_type": "markdown",
   "id": "a428eaeb",
   "metadata": {},
   "source": [
    "### Below are a few examples of evaluating arithmetic expressions in Python\n",
    "'\\$ 5+2 \\$'\n",
    "'\\$ 5-2 \\$'\n",
    "'\\$ 5*2 \\$'\n",
    "'\\$ 5/2 \\$'"
   ]
  },
  {
   "cell_type": "code",
   "execution_count": 6,
   "id": "00968a79",
   "metadata": {},
   "outputs": [
    {
     "name": "stdout",
     "output_type": "stream",
     "text": [
      "(3*4)+5= 17\n"
     ]
    }
   ],
   "source": [
    "'This a simple arithmetic expression to mutiply then add integers'\n",
    "print(\"(3*4)+5=\",(3*4)+5)"
   ]
  },
  {
   "cell_type": "code",
   "execution_count": 9,
   "id": "5f4d48c2",
   "metadata": {},
   "outputs": [
    {
     "name": "stdout",
     "output_type": "stream",
     "text": [
      "3.3333333333333335\n"
     ]
    }
   ],
   "source": [
    "'This will convert 200 minutes to hours by diving by 60'\n",
    "a=200;\n",
    "h=200/60;\n",
    "print(h);\n"
   ]
  },
  {
   "cell_type": "markdown",
   "id": "f1849bb1",
   "metadata": {},
   "source": [
    "## Author\n",
    "Shivanshu Raj"
   ]
  },
  {
   "cell_type": "code",
   "execution_count": null,
   "id": "d0267361",
   "metadata": {},
   "outputs": [],
   "source": []
  }
 ],
 "metadata": {
  "kernelspec": {
   "display_name": "Python 3 (ipykernel)",
   "language": "python",
   "name": "python3"
  },
  "language_info": {
   "codemirror_mode": {
    "name": "ipython",
    "version": 3
   },
   "file_extension": ".py",
   "mimetype": "text/x-python",
   "name": "python",
   "nbconvert_exporter": "python",
   "pygments_lexer": "ipython3",
   "version": "3.10.9"
  }
 },
 "nbformat": 4,
 "nbformat_minor": 5
}
